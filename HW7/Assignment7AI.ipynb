{
  "nbformat": 4,
  "nbformat_minor": 0,
  "metadata": {
    "colab": {
      "provenance": []
    },
    "kernelspec": {
      "name": "python3",
      "display_name": "Python 3"
    },
    "language_info": {
      "name": "python"
    }
  },
  "cells": [
    {
      "cell_type": "markdown",
      "source": [
        "#Assignment 7"
      ],
      "metadata": {
        "id": "YoSlAgq0MXOw"
      }
    },
    {
      "cell_type": "code",
      "execution_count": 7,
      "metadata": {
        "id": "FbNYFZKIL1yP"
      },
      "outputs": [],
      "source": [
        "import pandas as pd\n",
        "import os\n",
        "import cv2\n",
        "import random\n",
        "import numpy as np\n",
        "import pandas as pd\n",
        "import seaborn as sns\n",
        "import plotly.express as px\n",
        "import matplotlib.pyplot as plt\n",
        "\n",
        "import sklearn as sk\n",
        "import tensorflow as tf\n",
        "from sklearn.preprocessing import StandardScaler\n",
        "\n",
        "from keras.datasets import mnist\n",
        "from keras.models import Sequential\n",
        "from sklearn.metrics import confusion_matrix\n",
        "from sklearn.model_selection import train_test_split\n",
        "from sklearn.metrics import classification_report\n",
        "\n",
        "from sklearn.neural_network import MLPClassifier\n",
        "from sklearn.metrics import accuracy_score\n",
        "df = pd.read_csv('/content/nasa_asteroid.csv')"
      ]
    },
    {
      "cell_type": "code",
      "source": [
        "#Exploratory Data Analysis\n",
        "print('Total duplicates:', df.duplicated().sum())\n",
        "print('Total missing values:', df.isnull().sum().sum())\n",
        "print('Shape of data:', df.shape)\n",
        "df.info()"
      ],
      "metadata": {
        "colab": {
          "base_uri": "https://localhost:8080/"
        },
        "id": "64n94UxwM6gg",
        "outputId": "66bcbcc7-ae82-46d7-f585-6ff6c080869f"
      },
      "execution_count": 118,
      "outputs": [
        {
          "output_type": "stream",
          "name": "stdout",
          "text": [
            "Total duplicates: 0\n",
            "Total missing values: 0\n",
            "Shape of data: (4687, 40)\n",
            "<class 'pandas.core.frame.DataFrame'>\n",
            "RangeIndex: 4687 entries, 0 to 4686\n",
            "Data columns (total 40 columns):\n",
            " #   Column                        Non-Null Count  Dtype  \n",
            "---  ------                        --------------  -----  \n",
            " 0   Neo Reference ID              4687 non-null   int64  \n",
            " 1   Name                          4687 non-null   int64  \n",
            " 2   Absolute Magnitude            4687 non-null   float64\n",
            " 3   Est Dia in KM(min)            4687 non-null   float64\n",
            " 4   Est Dia in KM(max)            4687 non-null   float64\n",
            " 5   Est Dia in M(min)             4687 non-null   float64\n",
            " 6   Est Dia in M(max)             4687 non-null   float64\n",
            " 7   Est Dia in Miles(min)         4687 non-null   float64\n",
            " 8   Est Dia in Miles(max)         4687 non-null   float64\n",
            " 9   Est Dia in Feet(min)          4687 non-null   float64\n",
            " 10  Est Dia in Feet(max)          4687 non-null   float64\n",
            " 11  Close Approach Date           4687 non-null   object \n",
            " 12  Epoch Date Close Approach     4687 non-null   int64  \n",
            " 13  Relative Velocity km per sec  4687 non-null   float64\n",
            " 14  Relative Velocity km per hr   4687 non-null   float64\n",
            " 15  Miles per hour                4687 non-null   float64\n",
            " 16  Miss Dist.(Astronomical)      4687 non-null   float64\n",
            " 17  Miss Dist.(lunar)             4687 non-null   float64\n",
            " 18  Miss Dist.(kilometers)        4687 non-null   float64\n",
            " 19  Miss Dist.(miles)             4687 non-null   float64\n",
            " 20  Orbiting Body                 4687 non-null   object \n",
            " 21  Orbit ID                      4687 non-null   int64  \n",
            " 22  Orbit Determination Date      4687 non-null   object \n",
            " 23  Orbit Uncertainity            4687 non-null   int64  \n",
            " 24  Minimum Orbit Intersection    4687 non-null   float64\n",
            " 25  Jupiter Tisserand Invariant   4687 non-null   float64\n",
            " 26  Epoch Osculation              4687 non-null   float64\n",
            " 27  Eccentricity                  4687 non-null   float64\n",
            " 28  Semi Major Axis               4687 non-null   float64\n",
            " 29  Inclination                   4687 non-null   float64\n",
            " 30  Asc Node Longitude            4687 non-null   float64\n",
            " 31  Orbital Period                4687 non-null   float64\n",
            " 32  Perihelion Distance           4687 non-null   float64\n",
            " 33  Perihelion Arg                4687 non-null   float64\n",
            " 34  Aphelion Dist                 4687 non-null   float64\n",
            " 35  Perihelion Time               4687 non-null   float64\n",
            " 36  Mean Anomaly                  4687 non-null   float64\n",
            " 37  Mean Motion                   4687 non-null   float64\n",
            " 38  Equinox                       4687 non-null   object \n",
            " 39  Hazardous                     4687 non-null   bool   \n",
            "dtypes: bool(1), float64(30), int64(5), object(4)\n",
            "memory usage: 1.4+ MB\n"
          ]
        }
      ]
    },
    {
      "cell_type": "code",
      "source": [
        "# Dropping unneccesary columns\n",
        "print(\"The shape before dropping: \", df.shape) # shape before dropping\n",
        "df = df.drop(['Equinox', 'Orbit Determination Date', 'Orbiting Body', 'Neo Reference ID', 'Name', 'Epoch Date Close Approach','Close Approach Date' ], axis = 1)\n",
        "print(\"The shape after dropping: \", df.shape) # shape after dropping\n"
      ],
      "metadata": {
        "colab": {
          "base_uri": "https://localhost:8080/"
        },
        "id": "ZQA8MBs4Ndsh",
        "outputId": "e2f2ef21-decb-4d3b-a8a6-60ac3aea5346"
      },
      "execution_count": 119,
      "outputs": [
        {
          "output_type": "stream",
          "name": "stdout",
          "text": [
            "The shape before dropping:  (4687, 40)\n",
            "The shape after dropping:  (4687, 33)\n"
          ]
        }
      ]
    },
    {
      "cell_type": "code",
      "source": [
        "# Setting up training and test data split\n",
        "X = df.iloc[:, :-1]  #  all rows and all columns except the last one\n",
        "y = df.iloc[:, -1]   #  all rows and only the last column\n",
        "\n",
        "# Split the dataset into training, validation, and testing sets -- randomly shuffle the sets\n",
        "X_train, X_test, y_train, y_test = train_test_split(X, y, test_size=0.3, random_state=42, shuffle=True, stratify=y)\n",
        "\n",
        "#  Split the training into training and validation sets\n",
        "X_train, X_val, y_train, y_val = train_test_split(X_train, y_train, test_size=0.1, random_state=42)\n",
        "\n"
      ],
      "metadata": {
        "id": "WpWtJ4CiP01M"
      },
      "execution_count": 120,
      "outputs": []
    },
    {
      "cell_type": "code",
      "source": [
        "# Scale the numeric features\n",
        "scaler = StandardScaler()\n",
        "X_train_scaled = scaler.fit_transform(X_train)\n",
        "X_test_scaled = scaler.transform(X_test)\n",
        "X_val_scaled = scaler.transform(X_val)\n"
      ],
      "metadata": {
        "id": "dAkLJLBUXR7p"
      },
      "execution_count": 121,
      "outputs": []
    },
    {
      "cell_type": "code",
      "source": [
        "# Create an MLPClassifier without early stopping\n",
        "mlp = MLPClassifier(hidden_layer_sizes=(100,50), max_iter=500, random_state=44)\n",
        "\n",
        "# Train the classifier\n",
        "mlp.fit(X_train_scaled, y_train)\n",
        "\n",
        "# Calculate accuracies\n",
        "train_accuracy = mlp.score(X_train_scaled, y_train)\n",
        "val_accuracy = mlp.score(X_val_scaled, y_val)\n",
        "test_accuracy = mlp.score(X_test_scaled, y_test)\n",
        "\n",
        "print(\"Training Accuracy:\", train_accuracy)\n",
        "print(\"Validation Accuracy:\", val_accuracy)\n",
        "print(\"Test Accuracy:\", test_accuracy)"
      ],
      "metadata": {
        "colab": {
          "base_uri": "https://localhost:8080/"
        },
        "id": "CTQ6Qr0TYtxM",
        "outputId": "218df4e0-5b96-475d-b53e-1075dcff9c08"
      },
      "execution_count": 122,
      "outputs": [
        {
          "output_type": "stream",
          "name": "stdout",
          "text": [
            "Training Accuracy: 1.0\n",
            "Validation Accuracy: 0.9725609756097561\n",
            "Test Accuracy: 0.9800995024875622\n"
          ]
        }
      ]
    },
    {
      "cell_type": "markdown",
      "source": [
        ">For a model with two hidden layers with 100 and 50 neurons we get pretty good accuracy but we will try with different hyperparameters also"
      ],
      "metadata": {
        "id": "c-NNK6encnf9"
      }
    },
    {
      "cell_type": "code",
      "source": [
        "hyperparameters = [\n",
        "    {'hidden_layer_sizes': (150, 50)},\n",
        "    {'hidden_layer_sizes': (200, 100)},\n",
        "    {'hidden_layer_sizes': (50, 20)},\n",
        "    {'hidden_layer_sizes': (120, 40)},\n",
        "    {'hidden_layer_sizes': (70, 20)},\n",
        "    {'hidden_layer_sizes': (200, 50)},\n",
        "    {'hidden_layer_sizes': (100, 50)}\n",
        "\n",
        "    # Add more hyperparameter combinations as needed\n",
        "]\n",
        "results = []\n",
        "for params in hyperparameters:\n",
        "    model = MLPClassifier(max_iter=500, random_state=44, **params)\n",
        "    model.fit(X_train_scaled, y_train)\n",
        "    # Calculate accuracies\n",
        "    train_accuracy = model.score(X_train_scaled, y_train)\n",
        "    val_accuracy = model.score(X_val_scaled, y_val)\n",
        "\n",
        "    y_pred = model.predict(X_test_scaled)\n",
        "    accuracy = accuracy_score(y_test, y_pred)\n",
        "    results.append({'params': params, 'test accuracy': accuracy,\n",
        "                    'train accuracy': train_accuracy,\n",
        "                    'val accuracy': val_accuracy})\n",
        "\n",
        "# Summarize the results in a table\n",
        "results_df = pd.DataFrame(results)\n",
        "print('Hyperparameter tuning results:')\n",
        "print(results_df)"
      ],
      "metadata": {
        "colab": {
          "base_uri": "https://localhost:8080/"
        },
        "id": "ayyV3WGgc9q9",
        "outputId": "a08ec456-73a2-4683-ae8a-57f2a5e12ead"
      },
      "execution_count": 123,
      "outputs": [
        {
          "output_type": "stream",
          "name": "stdout",
          "text": [
            "Hyperparameter tuning results:\n",
            "                               params  test accuracy  train accuracy  \\\n",
            "0   {'hidden_layer_sizes': (150, 50)}       0.980810             1.0   \n",
            "1  {'hidden_layer_sizes': (200, 100)}       0.981521             1.0   \n",
            "2    {'hidden_layer_sizes': (50, 20)}       0.982942             1.0   \n",
            "3   {'hidden_layer_sizes': (120, 40)}       0.979389             1.0   \n",
            "4    {'hidden_layer_sizes': (70, 20)}       0.982942             1.0   \n",
            "5   {'hidden_layer_sizes': (200, 50)}       0.979389             1.0   \n",
            "6   {'hidden_layer_sizes': (100, 50)}       0.980100             1.0   \n",
            "\n",
            "   val accuracy  \n",
            "0      0.987805  \n",
            "1      0.978659  \n",
            "2      0.978659  \n",
            "3      0.978659  \n",
            "4      0.975610  \n",
            "5      0.978659  \n",
            "6      0.972561  \n"
          ]
        }
      ]
    },
    {
      "cell_type": "markdown",
      "source": [
        ">A model with 2 hidden layers with 150 and 50 neurons preforms really well so we will go with that!"
      ],
      "metadata": {
        "id": "xZupWqMAfTEa"
      }
    },
    {
      "cell_type": "code",
      "source": [
        "mlp = MLPClassifier(hidden_layer_sizes=(150,50), max_iter=500, random_state=44)\n"
      ],
      "metadata": {
        "id": "9f8fqiaZsCkd"
      },
      "execution_count": 124,
      "outputs": []
    },
    {
      "cell_type": "code",
      "source": [
        "# Initialize lists to store training, validation, and test accuracies\n",
        "train_accuracies = []\n",
        "val_accuracies = []\n",
        "test_accuracies = []\n",
        "\n",
        "# Train the classifier and calculate accuracies at each iteration\n",
        "# partial_fit() allows for incremental learning without retraining it from scratch\n",
        "for i in range(500):\n",
        "    mlp.partial_fit(X_train_scaled, y_train, classes=np.unique(y_train))\n",
        "    train_accuracies.append(mlp.score(X_train_scaled, y_train))\n",
        "    val_accuracies.append(mlp.score(X_val_scaled, y_val))\n",
        "    test_accuracies.append(mlp.score(X_test_scaled, y_test))\n",
        "\n",
        "# Plot the training, validation, and test accuracies\n",
        "plt.figure(figsize=(8, 6))\n",
        "plt.plot(range(1, 501), train_accuracies, label='Training accuracy')\n",
        "plt.plot(range(1, 501), val_accuracies, label='Validation accuracy')\n",
        "plt.plot(range(1, 501), test_accuracies, label='Test accuracy')\n",
        "plt.xlabel('Iterations')\n",
        "plt.ylabel('Accuracy')\n",
        "plt.legend()\n",
        "plt.show()\n"
      ],
      "metadata": {
        "colab": {
          "base_uri": "https://localhost:8080/",
          "height": 542
        },
        "id": "ZEswAmAzq5en",
        "outputId": "fa71151c-9388-47bb-c772-c543fc2aad70"
      },
      "execution_count": 125,
      "outputs": [
        {
          "output_type": "display_data",
          "data": {
            "text/plain": [
              "<Figure size 800x600 with 1 Axes>"
            ],
            "image/png": "[encoded data removed]"
          },
          "metadata": {}
        }
      ]
    },
    {
      "cell_type": "code",
      "source": [
        "#Displaying the loss curve\n",
        "plt.figure(figsize=(8, 6))\n",
        "plt.plot(mlp.loss_curve_)\n",
        "plt.xlabel('Iterations')\n",
        "plt.ylabel('Loss')\n",
        "plt.title('Loss Curve')\n",
        "plt.show()"
      ],
      "metadata": {
        "colab": {
          "base_uri": "https://localhost:8080/",
          "height": 564
        },
        "id": "efcxzci1syBO",
        "outputId": "f38fdbf7-a2fb-4b76-eee4-7a39c68c75d6"
      },
      "execution_count": 126,
      "outputs": [
        {
          "output_type": "display_data",
          "data": {
            "text/plain": [
              "<Figure size 800x600 with 1 Axes>"
            ],
            "image/png": "[encoded data removed]"
          },
          "metadata": {}
        }
      ]
    },
    {
      "cell_type": "code",
      "source": [
        "#@title Display the confusion matrix for the test set\n",
        "from sklearn.metrics import confusion_matrix\n",
        "import seaborn as sns\n",
        "\n",
        "# Get the predicted labels for the test set\n",
        "y_pred = mlp.predict(X_test_scaled)\n",
        "\n",
        "# Calculate the confusion matrix\n",
        "cm = confusion_matrix(y_test, y_pred)\n",
        "\n",
        "# Display the confusion matrix using a heatmap\n",
        "plt.figure(figsize=(8, 6))\n",
        "sns.heatmap(cm, annot=True, fmt='d', cmap='Oranges', cbar=False)\n",
        "plt.xlabel('Predicted labels')\n",
        "plt.ylabel('True labels')\n",
        "plt.title('Confusion Matrix')\n",
        "plt.show()"
      ],
      "metadata": {
        "colab": {
          "base_uri": "https://localhost:8080/",
          "height": 564
        },
        "id": "B9dz3MtstD4e",
        "outputId": "6a6de3e6-f78b-4475-b5b1-8353e252a30f"
      },
      "execution_count": 130,
      "outputs": [
        {
          "output_type": "display_data",
          "data": {
            "text/plain": [
              "<Figure size 800x600 with 1 Axes>"
            ],
            "image/png": "[encoded data removed]"
          },
          "metadata": {}
        }
      ]
    },
    {
      "cell_type": "markdown",
      "source": [
        "#Summary"
      ],
      "metadata": {
        "id": "Nfhu2mjAqQai"
      }
    },
    {
      "cell_type": "markdown",
      "source": [
        "As we can see we initially dropped 'Equinox', 'Orbit Determination Date', 'Orbiting Body', 'Neo Reference ID', 'Name', 'Epoch Date Close Approach', 'Close Approach Date' from our predictor variables being that they were not useful predictors to determine if an astroid was hazardous or not. We then trained the model initially with 2 hidden layers with 100 and 50 neurons over 500 iterations. We tweaked the hyperparameters to go with a final model of 2 hidden layers with 150 neurons and 50 neurons. We then obtained a test accuracy of 98%!"
      ],
      "metadata": {
        "id": "hQ824blLqU9Z"
      }
    },
    {
      "cell_type": "markdown",
      "source": [
        "#Extra credit"
      ],
      "metadata": {
        "id": "GOyCI-7P3uMU"
      }
    },
    {
      "cell_type": "code",
      "source": [
        "from google.colab import drive\n",
        "drive.mount('/content/drive')"
      ],
      "metadata": {
        "colab": {
          "base_uri": "https://localhost:8080/"
        },
        "id": "he7EbeUA3xbA",
        "outputId": "a653dc3a-657c-429a-da83-e8aa9f6bfb9c"
      },
      "execution_count": 1,
      "outputs": [
        {
          "output_type": "stream",
          "name": "stdout",
          "text": [
            "Drive already mounted at /content/drive; to attempt to forcibly remount, call drive.mount(\"/content/drive\", force_remount=True).\n"
          ]
        }
      ]
    },
    {
      "cell_type": "code",
      "source": [
        "from sklearn.model_selection import train_test_split\n",
        "from tensorflow.keras.preprocessing.image import ImageDataGenerator\n",
        "import os\n",
        "\n",
        "# Define the path to your dataset directory\n",
        "dataset_dir = '/content/drive/MyDrive/Colab Notebooks/RSSCN7-master'\n",
        "\n",
        "# Define the target image size and batch size\n",
        "target_size = (224, 224)  # adjust the size as needed\n",
        "batch_size = 32\n",
        "\n",
        "# Create image data generators for training, validation, and test sets\n",
        "datagen = ImageDataGenerator(rescale=1./255, validation_split=0.3)\n",
        "\n",
        "train_generator = datagen.flow_from_directory(\n",
        "    dataset_dir,\n",
        "    target_size=target_size,\n",
        "    batch_size=batch_size,\n",
        "    class_mode='categorical',\n",
        "    subset='training'\n",
        ")\n",
        "\n",
        "validation_generator = datagen.flow_from_directory(\n",
        "    dataset_dir,\n",
        "    target_size=target_size,\n",
        "    batch_size=batch_size,\n",
        "    class_mode='categorical',\n",
        "    subset='validation'\n",
        ")\n",
        "\n",
        "\n"
      ],
      "metadata": {
        "colab": {
          "base_uri": "https://localhost:8080/"
        },
        "id": "sfgxse3yH3WX",
        "outputId": "24877c19-3868-497e-e9e3-185557c6e08f"
      },
      "execution_count": 3,
      "outputs": [
        {
          "output_type": "stream",
          "name": "stdout",
          "text": [
            "Found 1960 images belonging to 7 classes.\n",
            "Found 840 images belonging to 7 classes.\n"
          ]
        }
      ]
    },
    {
      "cell_type": "code",
      "source": [
        "from tensorflow.keras.models import Sequential\n",
        "from tensorflow.keras.layers import Conv2D, MaxPooling2D, Flatten, Dense, Dropout\n",
        "\n",
        "# Define the CNN model\n",
        "model = Sequential([\n",
        "    Conv2D(32, (3, 3), activation='relu', input_shape=(224, 224, 3)),\n",
        "    MaxPooling2D((2, 2)),\n",
        "    Conv2D(64, (3, 3), activation='relu'),\n",
        "    MaxPooling2D((2, 2)),\n",
        "    Conv2D(128, (3, 3), activation='relu'),\n",
        "    MaxPooling2D((2, 2)),\n",
        "    Conv2D(128, (3, 3), activation='relu'),\n",
        "    MaxPooling2D((2, 2)),\n",
        "    Flatten(),\n",
        "    Dense(512, activation='relu'),\n",
        "    Dropout(0.5),\n",
        "    Dense(7, activation='softmax')  # 7 output classes\n",
        "])\n",
        "\n",
        "# Compile the model\n",
        "model.compile(optimizer='adam',\n",
        "              loss='categorical_crossentropy',\n",
        "              metrics=['accuracy'])\n",
        "\n",
        "model.summary()\n"
      ],
      "metadata": {
        "colab": {
          "base_uri": "https://localhost:8080/"
        },
        "id": "KFDI8CMDP5Ca",
        "outputId": "11a5e543-feff-4c3f-dc15-b41cd64ee95f"
      },
      "execution_count": 4,
      "outputs": [
        {
          "output_type": "stream",
          "name": "stdout",
          "text": [
            "Model: \"sequential\"\n",
            "_________________________________________________________________\n",
            " Layer (type)                Output Shape              Param #   \n",
            "=================================================================\n",
            " conv2d (Conv2D)             (None, 222, 222, 32)      896       \n",
            "                                                                 \n",
            " max_pooling2d (MaxPooling2  (None, 111, 111, 32)      0         \n",
            " D)                                                              \n",
            "                                                                 \n",
            " conv2d_1 (Conv2D)           (None, 109, 109, 64)      18496     \n",
            "                                                                 \n",
            " max_pooling2d_1 (MaxPoolin  (None, 54, 54, 64)        0         \n",
            " g2D)                                                            \n",
            "                                                                 \n",
            " conv2d_2 (Conv2D)           (None, 52, 52, 128)       73856     \n",
            "                                                                 \n",
            " max_pooling2d_2 (MaxPoolin  (None, 26, 26, 128)       0         \n",
            " g2D)                                                            \n",
            "                                                                 \n",
            " conv2d_3 (Conv2D)           (None, 24, 24, 128)       147584    \n",
            "                                                                 \n",
            " max_pooling2d_3 (MaxPoolin  (None, 12, 12, 128)       0         \n",
            " g2D)                                                            \n",
            "                                                                 \n",
            " flatten (Flatten)           (None, 18432)             0         \n",
            "                                                                 \n",
            " dense (Dense)               (None, 512)               9437696   \n",
            "                                                                 \n",
            " dropout (Dropout)           (None, 512)               0         \n",
            "                                                                 \n",
            " dense_1 (Dense)             (None, 7)                 3591      \n",
            "                                                                 \n",
            "=================================================================\n",
            "Total params: 9682119 (36.93 MB)\n",
            "Trainable params: 9682119 (36.93 MB)\n",
            "Non-trainable params: 0 (0.00 Byte)\n",
            "_________________________________________________________________\n"
          ]
        }
      ]
    },
    {
      "cell_type": "code",
      "source": [
        "# Train the model\n",
        "history = model.fit(\n",
        "    train_generator,\n",
        "    steps_per_epoch=train_generator.samples // batch_size,\n",
        "    epochs=5,\n",
        "    validation_data=validation_generator,\n",
        "    validation_steps=validation_generator.samples // batch_size\n",
        ")\n",
        "\n",
        "# Evaluate the model on the test data\n",
        "test_loss, test_accuracy = model.evaluate(validation_generator, verbose=2)\n",
        "print(\"Test Accuracy:\", test_accuracy)\n",
        "\n",
        "# Plot training and validation accuracy\n",
        "import matplotlib.pyplot as plt\n",
        "\n",
        "plt.plot(history.history['accuracy'], label='Training Accuracy')\n",
        "plt.plot(history.history['val_accuracy'], label='Validation Accuracy')\n",
        "plt.xlabel('Epochs')\n",
        "plt.ylabel('Accuracy')\n",
        "plt.legend()\n",
        "plt.show()\n"
      ],
      "metadata": {
        "colab": {
          "base_uri": "https://localhost:8080/",
          "height": 665
        },
        "id": "n_81t-OOP7EF",
        "outputId": "7c0ed9ee-3fc7-4c95-9768-44d61c06e52a"
      },
      "execution_count": 5,
      "outputs": [
        {
          "output_type": "stream",
          "name": "stdout",
          "text": [
            "Epoch 1/5\n",
            "61/61 [==============================] - 355s 6s/step - loss: 1.5708 - accuracy: 0.3143 - val_loss: 1.3506 - val_accuracy: 0.4531\n",
            "Epoch 2/5\n",
            "61/61 [==============================] - 292s 5s/step - loss: 1.1464 - accuracy: 0.4684 - val_loss: 1.1919 - val_accuracy: 0.4796\n",
            "Epoch 3/5\n",
            "61/61 [==============================] - 271s 4s/step - loss: 0.9564 - accuracy: 0.5726 - val_loss: 1.1063 - val_accuracy: 0.5228\n",
            "Epoch 4/5\n",
            "61/61 [==============================] - 281s 5s/step - loss: 0.8659 - accuracy: 0.6333 - val_loss: 1.2026 - val_accuracy: 0.5709\n",
            "Epoch 5/5\n",
            "61/61 [==============================] - 274s 4s/step - loss: 0.7693 - accuracy: 0.6857 - val_loss: 1.4242 - val_accuracy: 0.5156\n",
            "27/27 - 33s - loss: 1.4250 - accuracy: 0.5167 - 33s/epoch - 1s/step\n",
            "Test Accuracy: 0.5166666507720947\n"
          ]
        },
        {
          "output_type": "display_data",
          "data": {
            "text/plain": [
              "<Figure size 640x480 with 1 Axes>"
            ],
            "image/png": "[encoded data removed]"
          },
          "metadata": {}
        }
      ]
    },
    {
      "cell_type": "code",
      "source": [
        "import numpy as np\n",
        "from sklearn.metrics import confusion_matrix, classification_report\n",
        "\n",
        "# Predict classes for the test set\n",
        "predictions = np.argmax(model.predict(validation_generator), axis=-1)\n",
        "true_labels = validation_generator.classes\n",
        "\n",
        "# Generate confusion matrix and classification report\n",
        "conf_matrix = confusion_matrix(true_labels, predictions)\n",
        "print(\"Confusion Matrix:\")\n",
        "print(conf_matrix)\n",
        "\n",
        "print(\"Classification Report:\")\n",
        "print(classification_report(true_labels, predictions))\n"
      ],
      "metadata": {
        "colab": {
          "base_uri": "https://localhost:8080/"
        },
        "id": "5xhuImIEbWhx",
        "outputId": "814275d0-2875-440c-88e3-61de218c1a7c"
      },
      "execution_count": 6,
      "outputs": [
        {
          "output_type": "stream",
          "name": "stdout",
          "text": [
            "27/27 [==============================] - 39s 1s/step\n",
            "Confusion Matrix:\n",
            "[[ 4  7 35 19 33 12 10]\n",
            " [ 3 14 31 21 26  9 16]\n",
            " [ 6  4 33 19 30 17 11]\n",
            " [ 4 10 37 24 26  8 11]\n",
            " [ 5  8 30 19 29 19 10]\n",
            " [ 6  7 36 24 23 15  9]\n",
            " [ 1 16 39 19 25 13  7]]\n",
            "Classification Report:\n",
            "              precision    recall  f1-score   support\n",
            "\n",
            "           0       0.14      0.03      0.05       120\n",
            "           1       0.21      0.12      0.15       120\n",
            "           2       0.14      0.28      0.18       120\n",
            "           3       0.17      0.20      0.18       120\n",
            "           4       0.15      0.24      0.19       120\n",
            "           5       0.16      0.12      0.14       120\n",
            "           6       0.09      0.06      0.07       120\n",
            "\n",
            "    accuracy                           0.15       840\n",
            "   macro avg       0.15      0.15      0.14       840\n",
            "weighted avg       0.15      0.15      0.14       840\n",
            "\n"
          ]
        }
      ]
    },
    {
      "cell_type": "markdown",
      "source": [
        "#Summary"
      ],
      "metadata": {
        "id": "mTDDQvg3sxsZ"
      }
    },
    {
      "cell_type": "markdown",
      "source": [
        "The provided model is a Convolutional Neural Network (CNN) architecture designed for image classification tasks. It consists of multiple layers arranged sequentially to process input images and classify them into one of the seven classes.\n",
        "\n",
        "The model begins with a Conv2D layer, which convolves the input image with 32 filters of size 3x3, resulting in an output shape of (222, 222, 32). This is followed by a MaxPooling2D layer, which reduces the spatial dimensions by half, resulting in an output shape of (111, 111, 32).\n",
        "\n",
        "Subsequent layers include additional pairs of Conv2D and MaxPooling2D layers, progressively increasing the number of filters and reducing the spatial dimensions. The convolutional layers extract features from the input images, while the max pooling layers downsample the feature maps to capture the most important information.\n",
        "\n",
        "After several convolutional and pooling layers, the model includes a Flatten layer, which flattens the 3D feature maps into a 1D vector. This vector is then passed to a series of Dense layers, which are fully connected neural network layers. These layers learn to classify the flattened features extracted by the convolutional layers into the appropriate classes.\n",
        "\n",
        "To prevent overfitting, the model includes a Dropout layer, which randomly sets a fraction of input units to zero during training. This helps regularize the model and improve its generalization performance.\n",
        "\n",
        "Finally, the output layer consists of a Dense layer with softmax activation, producing probabilities for each class. The class with the highest probability is predicted as the output class for a given input image.\n",
        "\n"
      ],
      "metadata": {
        "id": "2wxU4e7IszP4"
      }
    },
    {
      "cell_type": "markdown",
      "source": [
        "The model didn't preform the best with only a 52% test accuracy"
      ],
      "metadata": {
        "id": "GbD1tygLv6Qu"
      }
    }
  ]
}