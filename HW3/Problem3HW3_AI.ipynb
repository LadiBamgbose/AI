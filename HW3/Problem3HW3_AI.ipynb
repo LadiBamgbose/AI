{
  "nbformat": 4,
  "nbformat_minor": 0,
  "metadata": {
    "colab": {
      "provenance": [],
      "authorship_tag": "ABX9TyOZZBCiK2vWFijmSxKeubuI",
      "include_colab_link": true
    },
    "kernelspec": {
      "name": "python3",
      "display_name": "Python 3"
    },
    "language_info": {
      "name": "python"
    }
  },
  "cells": [
    {
      "cell_type": "markdown",
      "metadata": {
        "id": "view-in-github",
        "colab_type": "text"
      },
      "source": [
        "<a href=\"https://colab.research.google.com/github/LadiBamgbose/AI/blob/main/HW3/Problem3HW3_AI.ipynb\" target=\"_parent\"><img src=\"https://colab.research.google.com/assets/colab-badge.svg\" alt=\"Open In Colab\"/></a>"
      ]
    },
    {
      "cell_type": "markdown",
      "source": [
        "#Problem 3\n",
        "Ladi Bamgbose<br>\n",
        "Write a DFS algorithm which when given a start node and a goal node, it returns SUCCESS if the goal is reachable and FAILURE otherwise."
      ],
      "metadata": {
        "id": "Od70eFz7n7_x"
      }
    },
    {
      "cell_type": "code",
      "execution_count": 6,
      "metadata": {
        "id": "uZIgNRrjn0bD"
      },
      "outputs": [],
      "source": [
        "#making the graph to model the maze\n",
        "maze1 =  {\n",
        "    '1': ['11', '2'], '2': ['1', '3'], '3': ['2', '13'],\n",
        "    '4': ['14', '5'], '5': ['4', '6'], '6': ['5', '16'],\n",
        "    '7': ['17', '8'], '8': ['7', '9'], '9': ['8', '10'],\n",
        "    '10': ['9', '20'], '11': ['1', '21'], '12': ['13'],\n",
        "    '13': ['3', '12'], '14': ['15', '4'], '15': ['25', '14'],\n",
        "    '16': ['6', '17'], '17': ['16', '7'], '18': ['28'],\n",
        "    '19': ['20', '29'], '20': ['10', '19'], '21': ['11', '22'],\n",
        "    '22': ['21', '32'], '23': ['33', '24'], '24': ['23'],\n",
        "    '25': ['35', '15', '26'], '26': ['25','36'], '27': ['17', '28'],\n",
        "    '28': ['27', '18'], '29': ['19', '39'], '30': ['40'],\n",
        "    '31': ['32', '41'], '32': ['31', '33'], '33': ['23','32'],\n",
        "    '34': ['44', '35'], '35': ['34', '45', '25'],\n",
        "    '36': ['26', '37'], '37': ['36'], '38': ['39', '48'],\n",
        "    '39': ['29', '38', '40'], '40': ['39', '30'], '41': ['31', '42'],\n",
        "    '42': ['41', '43'], '43': ['42', '44'], '44': ['43', '34'],\n",
        "    '45':['35', '46'], '46': ['45'], '47': ['48'], '48': ['47', '38', '49'],\n",
        "    '49': ['48', '50'], '50': ['49']\n",
        "}"
      ]
    },
    {
      "cell_type": "code",
      "source": [
        "#this models the second maze\n",
        "maze2 = {\n",
        "    '1': ['11', '2'], '2': ['1', '3'], '3': ['2', '13'],\n",
        "    '4': ['14', '5'], '5': ['4', '6'], '6': ['5', '16'],\n",
        "    '7': ['17', '8'], '8': ['7', '9'], '9': ['8', '10'],\n",
        "    '10': ['9', '20'], '11': ['1', '21'], '12': ['13'],\n",
        "    '13': ['3', '12'], '14': ['15', '4'], '15': ['25', '14'],\n",
        "    '16': ['6', '17'], '17': ['16', '7'], '18': ['28'],\n",
        "    '19': ['20', '29'], '20': ['10', '19'], '21': ['11', '22'],\n",
        "    '22': ['21'], '23': ['33', '24'], '24': ['23'],\n",
        "    '25': ['35', '15', '26'], '26': ['25','36'], '27': ['17', '28'],\n",
        "    '28': ['27', '18'], '29': ['19', '39'], '30': ['40'],\n",
        "    '31': ['32', '41'], '32': ['31', '33'], '33': ['23','32'],\n",
        "    '34': ['44', '35'], '35': ['34', '45', '25'],\n",
        "    '36': ['26', '37'], '37': ['36'], '38': ['39', '48'],\n",
        "    '39': ['29', '38', '40'], '40': ['39', '30'], '41': ['31', '42'],\n",
        "    '42': ['41', '43'], '43': ['42', '44'], '44': ['43', '34'],\n",
        "    '45':['35', '46'], '46': ['45'], '47': ['48'], '48': ['47', '38', '49'],\n",
        "    '49': ['48', '50'], '50': ['49']\n",
        "}"
      ],
      "metadata": {
        "id": "oti9uxUXt_hA"
      },
      "execution_count": 7,
      "outputs": []
    },
    {
      "cell_type": "code",
      "source": [
        "def dfs(graph, start, goal, visited=None):\n",
        "    if visited is None:\n",
        "        visited = set()\n",
        "\n",
        "    if start == goal:\n",
        "        return \"SUCCESS\"\n",
        "\n",
        "    visited.add(start)\n",
        "\n",
        "    for neighbor in graph[start]:\n",
        "        if neighbor not in visited:\n",
        "            result = dfs(graph, neighbor, goal, visited)\n",
        "            if result == \"SUCCESS\":\n",
        "                return \"SUCCESS\"\n",
        "\n",
        "    return \"FAILURE\""
      ],
      "metadata": {
        "id": "j1uT7KPBtg56"
      },
      "execution_count": 8,
      "outputs": []
    },
    {
      "cell_type": "code",
      "source": [
        "# Test the DFS algorithm\n",
        "start_node = '1'\n",
        "goal_node = '50'\n",
        "result = dfs(maze1, start_node, goal_node)\n",
        "print(\"DFS Result:\", result)"
      ],
      "metadata": {
        "colab": {
          "base_uri": "https://localhost:8080/"
        },
        "id": "Eik_NXkitijb",
        "outputId": "b5d689c0-3f21-4d4c-db3d-42d251ff5c2b"
      },
      "execution_count": 9,
      "outputs": [
        {
          "output_type": "stream",
          "name": "stdout",
          "text": [
            "DFS Result: SUCCESS\n"
          ]
        }
      ]
    },
    {
      "cell_type": "code",
      "source": [
        "# Test the DFS algorithm\n",
        "start_node = '1'\n",
        "goal_node = '50'\n",
        "result = dfs(maze2, start_node, goal_node)\n",
        "print(\"DFS Result:\", result)"
      ],
      "metadata": {
        "colab": {
          "base_uri": "https://localhost:8080/"
        },
        "id": "tfz06tvLu7S4",
        "outputId": "c3b3e109-8f18-4839-96a2-57335e1ad59e"
      },
      "execution_count": 10,
      "outputs": [
        {
          "output_type": "stream",
          "name": "stdout",
          "text": [
            "DFS Result: FAILURE\n"
          ]
        }
      ]
    }
  ]
}