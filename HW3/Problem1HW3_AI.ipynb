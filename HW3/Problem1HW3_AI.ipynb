{
  "nbformat": 4,
  "nbformat_minor": 0,
  "metadata": {
    "colab": {
      "provenance": []
    },
    "kernelspec": {
      "name": "python3",
      "display_name": "Python 3"
    },
    "language_info": {
      "name": "python"
    }
  },
  "cells": [
    {
      "cell_type": "markdown",
      "source": [
        "#Problem 1\n",
        "Ladi Bamgbose<br> Use the BFS algorithm to return the kth-level friend for a given user and graph"
      ],
      "metadata": {
        "id": "vevdweMNeOoS"
      }
    },
    {
      "cell_type": "code",
      "execution_count": 17,
      "metadata": {
        "id": "OgDzbRF8eJ6U"
      },
      "outputs": [],
      "source": [
        "#making test graph\n",
        "def create_graph(edges):\n",
        "  graph = {}\n",
        "  for edge in edges:\n",
        "    user1, user2 = edge\n",
        "    if user1 not in graph:\n",
        "      graph[user1] = []\n",
        "    if user2 not in graph:\n",
        "      graph[user2] = []\n",
        "    #since we are working with a directed graph\n",
        "    graph[user1].append(user2)\n",
        "  return graph"
      ]
    },
    {
      "cell_type": "code",
      "source": [
        "edges = [\n",
        "    ('bob', 'richard'),\n",
        "    ('bob', 'pam'),\n",
        "    ('bob', 'rob'),\n",
        "    ('pam', 'roger'),\n",
        "    ('pam', 'peter'),\n",
        "    ('peter', 'amy'),\n",
        "    ('roger', 'anna')\n",
        "]"
      ],
      "metadata": {
        "id": "q57QJGK8jJgL"
      },
      "execution_count": 18,
      "outputs": []
    },
    {
      "cell_type": "code",
      "source": [
        "# Create the social network graph using the adjacency list representation\n",
        "social_network_graph = create_graph(edges)\n",
        "\n",
        "# Print the adjacency list representation of the social network graph\n",
        "for user, friends in social_network_graph.items():\n",
        "    print(f\"{user}: {friends}\")"
      ],
      "metadata": {
        "colab": {
          "base_uri": "https://localhost:8080/"
        },
        "id": "ePXQUAm5jKlb",
        "outputId": "68b17e2e-3083-4f6c-d42d-36db2af42b14"
      },
      "execution_count": 19,
      "outputs": [
        {
          "output_type": "stream",
          "name": "stdout",
          "text": [
            "bob: ['richard', 'pam', 'rob']\n",
            "richard: []\n",
            "pam: ['roger', 'peter']\n",
            "rob: []\n",
            "roger: ['anna']\n",
            "peter: ['amy']\n",
            "amy: []\n",
            "anna: []\n"
          ]
        }
      ]
    },
    {
      "cell_type": "code",
      "source": [
        "from collections import deque\n",
        "\n",
        "def FindFriends(graph, user, k):\n",
        "    if user not in graph:\n",
        "        return []\n",
        "\n",
        "    visited = set()\n",
        "    queue = deque([(user, 0)])  # Start BFS from the given user with level 0\n",
        "    kth_level_friends = []\n",
        "\n",
        "    while queue:\n",
        "        current_user, level = queue.popleft()\n",
        "        visited.add(current_user)\n",
        "        if level == k:\n",
        "            kth_level_friends.append(current_user)\n",
        "        elif level > k:\n",
        "            break\n",
        "        else:\n",
        "            for friend in graph[current_user]:\n",
        "                if friend not in visited:\n",
        "                    queue.append((friend, level + 1))\n",
        "\n",
        "    return kth_level_friends"
      ],
      "metadata": {
        "id": "_Lwwkyc0k-03"
      },
      "execution_count": 22,
      "outputs": []
    },
    {
      "cell_type": "code",
      "source": [
        "# Test the function\n",
        "result = FindFriends(social_network_graph, 'bob', 3)\n",
        "print(\"The kth-level friend is:\", result)"
      ],
      "metadata": {
        "colab": {
          "base_uri": "https://localhost:8080/"
        },
        "id": "jfyyIbYClAQC",
        "outputId": "7492fda1-81dc-4b14-8a19-42101fd31841"
      },
      "execution_count": 23,
      "outputs": [
        {
          "output_type": "stream",
          "name": "stdout",
          "text": [
            "The kth-level friend is: ['anna', 'amy']\n"
          ]
        }
      ]
    }
  ]
}