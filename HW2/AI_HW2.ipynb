{
  "nbformat": 4,
  "nbformat_minor": 0,
  "metadata": {
    "colab": {
      "provenance": []
    },
    "kernelspec": {
      "name": "python3",
      "display_name": "Python 3"
    },
    "language_info": {
      "name": "python"
    }
  },
  "cells": [
    {
      "cell_type": "markdown",
      "source": [
        "#WaterJugPuzzle"
      ],
      "metadata": {
        "id": "QM8JX25LnaRK"
      }
    },
    {
      "cell_type": "markdown",
      "source": [
        "##Start State:\n",
        ">5 liter jug: 0 Liters,\n",
        ">3 liter jug: 0 Liters"
      ],
      "metadata": {
        "id": "U_EQbbPMnfB1"
      }
    },
    {
      "cell_type": "markdown",
      "source": [
        "##Goal State:\n",
        "5 liter jug: 4 liters,\n",
        "3 Liter jug: 3 liters"
      ],
      "metadata": {
        "id": "gmE-mA9nopBz"
      }
    },
    {
      "cell_type": "code",
      "execution_count": null,
      "metadata": {
        "id": "iRKR9EbWNUik"
      },
      "outputs": [],
      "source": [
        "class WaterJugPuzzle():\n",
        "  # we model the initial state using two variabes\n",
        "  def __init__ (self):\n",
        "    self.x = 0 #five liter jug\n",
        "    self.y = 0 #three liter jug\n",
        "    self.available5L = 5\n",
        "    self.available3L = 3\n",
        "\n",
        "  #########################\n",
        "  # Rule 1: Fill the 5L jug\n",
        "  #########################\n",
        "  def fill_five_jug(self):\n",
        "    self.available5L = 0\n",
        "    self.x = 5\n",
        "\n",
        "  #########################\n",
        "  # Rule 2: Fill the 3L jug\n",
        "  #########################\n",
        "  def fill_three_jug(self):\n",
        "    self.available3L = 0\n",
        "    self.y = 3\n",
        "\n",
        "  #############################\n",
        "  # Rule 3: Emptying the 5L jug\n",
        "  ##############################\n",
        "  def empty_five(self):\n",
        "    self.available5L = 5\n",
        "    self.x = 0\n",
        "\n",
        "  ##############################\n",
        "  # Rule 4: Emptying the 3L jug\n",
        "  ##############################\n",
        "  def empty_three(self):\n",
        "    self.available3L = 3\n",
        "    self.y = 0\n",
        "\n",
        "\n",
        "  ####################################################\n",
        "  # Rule 5: Fill the 3L jug with water from the 5L jug\n",
        "  ####################################################\n",
        "\n",
        "  def pour_five_into_three(self):\n",
        "    if self.available3L >= self.x:\n",
        "      self.y = self.x\n",
        "      self.x = 0\n",
        "      self.available5L = 5 - self.x\n",
        "      self.available3L = 3 -self.y\n",
        "    else:\n",
        "      self.x = self.x - self.available3L\n",
        "      self.available5L = 5 - self.x\n",
        "      self.y = self.y + self.available5L\n",
        "      self.available3L = 3 - self.y\n",
        "\n",
        "\n",
        "  ####################################################\n",
        "  # Rule 6: Fill the 5L jug with water from the 3L jug\n",
        "  ####################################################\n",
        "  def pour_three_into_five(self):\n",
        "    if self.available5L >= self.y:\n",
        "      self.x = self.y\n",
        "      self.y = 0\n",
        "      self.available3L = 3 - self.y\n",
        "      self.available5L = 5 -self.x\n",
        "    else:\n",
        "      self.y = self.y - self.available5L\n",
        "      self.available3L = 3 - self.y\n",
        "      self.x = self.x + self.available3L\n",
        "      self.available5L = 5 - self.x\n",
        "\n",
        "\n",
        "  #Seeing the states\n",
        "  def print_state(self):\n",
        "    print(\"The amount of water in the 5L is: \", self.x)\n",
        "    print(\"The amount of water in the 3L is: \", self.y)\n",
        "\n"
      ]
    },
    {
      "cell_type": "code",
      "source": [
        "# Forming the solution\n",
        "state = WaterJugPuzzle()\n",
        "\n",
        "# print intial state\n",
        "print('------------Start State-----------')\n",
        "state.print_state()\n",
        "print('The water available in 5L is: ', state.available5L)\n",
        "print('The water available in 5L is: ', state.available3L)\n",
        "\n",
        "# applying rules and then printing the state\n",
        "print(\"-------------Rule 1---------------\")\n",
        "state.fill_five_jug()\n",
        "state.print_state()\n",
        "print('The water available in 5L is: ', state.available5L)\n",
        "print('The water available in 5L is: ', state.available3L)\n",
        "\n",
        "print(\"--------------Rule 5--------------\")\n",
        "state.pour_five_into_three()\n",
        "state.print_state()\n",
        "print('The water available in 5L is: ', state.available5L)\n",
        "print('The water available in 5L is: ', state.available3L)\n",
        "\n",
        "print(\"--------------Rule 4--------------\")\n",
        "state.empty_three()\n",
        "state.print_state()\n",
        "print('The water available in 5L is: ', state.available5L)\n",
        "print('The water available in 5L is: ', state.available3L)\n",
        "\n",
        "print(\"---------------Rule 5--------------\")\n",
        "state.pour_five_into_three()\n",
        "state.print_state()\n",
        "print('The water available in 5L is: ', state.available5L)\n",
        "print('The water available in 5L is: ', state.available3L)\n",
        "\n",
        "print(\"---------------Rule 1--------------\")\n",
        "state.fill_five_jug()\n",
        "state.print_state()\n",
        "print('The water available in 5L is: ', state.available5L)\n",
        "print('The water available in 5L is: ', state.available3L)\n",
        "\n",
        "print(\"---------------Rule 5--------------\")\n",
        "state.pour_five_into_three()\n",
        "state.print_state()\n",
        "print('The water available in 5L is: ', state.available5L)\n",
        "print('The water available in 5L is: ', state.available3L)\n",
        "\n",
        "\n",
        "\n",
        "\n",
        "\n",
        "\n",
        "\n",
        "\n",
        "\n",
        "\n",
        "\n",
        "\n"
      ],
      "metadata": {
        "colab": {
          "base_uri": "https://localhost:8080/"
        },
        "id": "wavVJeVK5xQJ",
        "outputId": "b59b0806-2184-415c-a29c-0fc5a521d9c7"
      },
      "execution_count": null,
      "outputs": [
        {
          "output_type": "stream",
          "name": "stdout",
          "text": [
            "------------Start State-----------\n",
            "The amount of water in the 5L is:  0\n",
            "The amount of water in the 3L is:  0\n",
            "The water available in 5L is:  5\n",
            "The water available in 5L is:  3\n",
            "-------------Rule 1---------------\n",
            "The amount of water in the 5L is:  5\n",
            "The amount of water in the 3L is:  0\n",
            "The water available in 5L is:  0\n",
            "The water available in 5L is:  3\n",
            "--------------Rule 5--------------\n",
            "The amount of water in the 5L is:  2\n",
            "The amount of water in the 3L is:  3\n",
            "The water available in 5L is:  3\n",
            "The water available in 5L is:  0\n",
            "--------------Rule 4--------------\n",
            "The amount of water in the 5L is:  2\n",
            "The amount of water in the 3L is:  0\n",
            "The water available in 5L is:  3\n",
            "The water available in 5L is:  3\n",
            "---------------Rule 5--------------\n",
            "The amount of water in the 5L is:  0\n",
            "The amount of water in the 3L is:  2\n",
            "The water available in 5L is:  5\n",
            "The water available in 5L is:  1\n",
            "---------------Rule 1--------------\n",
            "The amount of water in the 5L is:  5\n",
            "The amount of water in the 3L is:  2\n",
            "The water available in 5L is:  0\n",
            "The water available in 5L is:  1\n",
            "---------------Rule 5--------------\n",
            "The amount of water in the 5L is:  4\n",
            "The amount of water in the 3L is:  3\n",
            "The water available in 5L is:  1\n",
            "The water available in 5L is:  0\n"
          ]
        }
      ]
    }
  ]
}