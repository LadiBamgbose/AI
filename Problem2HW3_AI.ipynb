{
  "nbformat": 4,
  "nbformat_minor": 0,
  "metadata": {
    "colab": {
      "provenance": [],
      "authorship_tag": "ABX9TyO8nPp/7/Uht2Io48Nvxrp2",
      "include_colab_link": true
    },
    "kernelspec": {
      "name": "python3",
      "display_name": "Python 3"
    },
    "language_info": {
      "name": "python"
    }
  },
  "cells": [
    {
      "cell_type": "markdown",
      "metadata": {
        "id": "view-in-github",
        "colab_type": "text"
      },
      "source": [
        "<a href=\"https://colab.research.google.com/github/LadiBamgbose/AI/blob/main/Problem2HW3_AI.ipynb\" target=\"_parent\"><img src=\"https://colab.research.google.com/assets/colab-badge.svg\" alt=\"Open In Colab\"/></a>"
      ]
    },
    {
      "cell_type": "markdown",
      "source": [
        "#Problem 2\n",
        "Ladi bamgbose <br>\n",
        "Write an algorithm that uses BFS to discover potentially missing immediate connections in a network"
      ],
      "metadata": {
        "id": "wtv5t3jfhthN"
      }
    },
    {
      "cell_type": "code",
      "execution_count": 2,
      "metadata": {
        "id": "CiC2CRuKrUON"
      },
      "outputs": [],
      "source": [
        "#making test graph\n",
        "def create_graph(edges):\n",
        "  graph = {}\n",
        "  for edge in edges:\n",
        "    user1, user2 = edge\n",
        "    if user1 not in graph:\n",
        "      graph[user1] = []\n",
        "    if user2 not in graph:\n",
        "      graph[user2] = []\n",
        "    #since we are working with an undirected graph\n",
        "    graph[user1].append(user2)\n",
        "    graph[user2].append(user1)\n",
        "  return graph"
      ]
    },
    {
      "cell_type": "code",
      "source": [
        "edges = [\n",
        "    ('adam', 'maria'),\n",
        "    ('maria', 'adam'),\n",
        "    ('maria', 'maya'),\n",
        "    ('maria', 'david'),\n",
        "    ('maria', 'sophia'),\n",
        "    ('david', 'maria'),\n",
        "    ('david', 'maya'),\n",
        "    ('maya', 'maria'),\n",
        "    ('maya', 'david'),\n",
        "    ('maya', 'sophia'),\n",
        "    ('sophia', 'maria'),\n",
        "    ('sophia', 'maya')\n",
        "]"
      ],
      "metadata": {
        "id": "V5NHEfIWh9Ue"
      },
      "execution_count": 3,
      "outputs": []
    },
    {
      "cell_type": "code",
      "source": [
        "#making graph\n",
        "graph = create_graph(edges)"
      ],
      "metadata": {
        "id": "A9Ui5vwHipaj"
      },
      "execution_count": 4,
      "outputs": []
    },
    {
      "cell_type": "code",
      "source": [
        "#identifying the friends of friends\n",
        "def PotentialFriends(graph, person):\n",
        "    if person not in graph:\n",
        "        return []\n",
        "\n",
        "    friends_of_friends = set()\n",
        "    direct_friends = set(graph[person])\n",
        "\n",
        "    for friend in graph[person]:\n",
        "        for friend_of_friend in graph[friend]:\n",
        "            if friend_of_friend != person and friend_of_friend not in direct_friends:\n",
        "                friends_of_friends.add(friend_of_friend)\n",
        "\n",
        "    return list(friends_of_friends)"
      ],
      "metadata": {
        "id": "bJ11xqz4ifbo"
      },
      "execution_count": 5,
      "outputs": []
    },
    {
      "cell_type": "code",
      "source": [
        "# Test the function\n",
        "result = PotentialFriends(graph, 'adam')\n",
        "print(\"Potential friends of 'adam':\", result)"
      ],
      "metadata": {
        "colab": {
          "base_uri": "https://localhost:8080/"
        },
        "id": "R1dOHsjkik70",
        "outputId": "07bb03bd-e710-4146-927b-893b064cb114"
      },
      "execution_count": 6,
      "outputs": [
        {
          "output_type": "stream",
          "name": "stdout",
          "text": [
            "Potential friends of 'adam': ['sophia', 'david', 'maya']\n"
          ]
        }
      ]
    },
    {
      "cell_type": "code",
      "source": [
        "result1 = PotentialFriends(graph, 'david')\n",
        "print(\"Potential friends of 'david':\", result1)"
      ],
      "metadata": {
        "colab": {
          "base_uri": "https://localhost:8080/"
        },
        "id": "P1z8P0iRjdaQ",
        "outputId": "86eaa580-d876-4b2c-cb65-5ef024f6f2c0"
      },
      "execution_count": 8,
      "outputs": [
        {
          "output_type": "stream",
          "name": "stdout",
          "text": [
            "Potential friends of 'david': ['sophia', 'adam']\n"
          ]
        }
      ]
    },
    {
      "cell_type": "code",
      "source": [
        "result2 = PotentialFriends(graph, 'sophia')\n",
        "print(\"Potential friends of 'sophia':\", result2)"
      ],
      "metadata": {
        "colab": {
          "base_uri": "https://localhost:8080/"
        },
        "id": "J-xRaTNkjxEz",
        "outputId": "7cb20900-3b87-4060-e9c7-1af7cbbeb0ce"
      },
      "execution_count": 10,
      "outputs": [
        {
          "output_type": "stream",
          "name": "stdout",
          "text": [
            "Potential friends of 'sophia': ['david', 'adam']\n"
          ]
        }
      ]
    }
  ]
}